{
 "cells": [
  {
   "cell_type": "code",
   "execution_count": null,
   "id": "initial_id",
   "metadata": {
    "collapsed": true,
    "is_executing": true
   },
   "outputs": [],
   "source": [
    "import IndSearcher\n",
    "documents = [\"This is a test document.\", \"Another document for testing.\"]\n",
    "colbert_model = IndSearcher('colbert/')\n",
    "faiss_index, document_embeddings = colbert_model.index_documents_with_faiss(documents, colbert_model)\n",
    "query = \"test document\"\n",
    "top_k_indices, top_k_distances = colbert_model.search_with_faiss(query, colbert_model, faiss_index, document_embeddings, top_k=2)\n"
   ]
  },
  {
   "cell_type": "code",
   "outputs": [],
   "source": [],
   "metadata": {
    "collapsed": false
   },
   "id": "f60b2c24f46e3583"
  }
 ],
 "metadata": {
  "kernelspec": {
   "display_name": "Python 3",
   "language": "python",
   "name": "python3"
  },
  "language_info": {
   "codemirror_mode": {
    "name": "ipython",
    "version": 2
   },
   "file_extension": ".py",
   "mimetype": "text/x-python",
   "name": "python",
   "nbconvert_exporter": "python",
   "pygments_lexer": "ipython2",
   "version": "2.7.6"
  }
 },
 "nbformat": 4,
 "nbformat_minor": 5
}
