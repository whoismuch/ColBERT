{
 "cells": [
  {
   "cell_type": "code",
   "execution_count": null,
   "id": "initial_id",
   "metadata": {
    "collapsed": true,
    "is_executing": true
   },
   "outputs": [],
   "source": [
    "from colbert.infra import Run, RunConfig, ColBERTConfig\n",
    "from colbert import Trainer"
   ]
  },
  {
   "cell_type": "code",
   "outputs": [],
   "source": [
    "if __name__=='__main__':\n",
    "    with Run().context(RunConfig(nranks=1, experiment=\"msmarco\")):\n",
    "\n",
    "        config = ColBERTConfig(\n",
    "            bsize=32,\n",
    "            root=\"./exp\",\n",
    "        )\n",
    "        trainer = Trainer(\n",
    "            triples=\"examples.json\",\n",
    "            queries=\"queries2.train.tsv\",\n",
    "            collection=\"collection.tsv\",\n",
    "            config=config,\n",
    "        )\n",
    "\n",
    "        checkpoint_path = trainer.train()\n",
    "\n",
    "        print(f\"Saved checkpoint to {checkpoint_path}...\")"
   ],
   "metadata": {
    "collapsed": false
   },
   "id": "99f79f697b0528ee"
  }
 ],
 "metadata": {
  "kernelspec": {
   "display_name": "Python 3",
   "language": "python",
   "name": "python3"
  },
  "language_info": {
   "codemirror_mode": {
    "name": "ipython",
    "version": 2
   },
   "file_extension": ".py",
   "mimetype": "text/x-python",
   "name": "python",
   "nbconvert_exporter": "python",
   "pygments_lexer": "ipython2",
   "version": "2.7.6"
  }
 },
 "nbformat": 4,
 "nbformat_minor": 5
}
